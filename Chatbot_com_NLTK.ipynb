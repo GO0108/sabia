{
  "nbformat": 4,
  "nbformat_minor": 0,
  "metadata": {
    "colab": {
      "provenance": [],
      "include_colab_link": true
    },
    "kernelspec": {
      "name": "python3",
      "display_name": "Python 3"
    },
    "language_info": {
      "name": "python"
    }
  },
  "cells": [
    {
      "cell_type": "markdown",
      "metadata": {
        "id": "view-in-github",
        "colab_type": "text"
      },
      "source": [
        "<a href=\"https://colab.research.google.com/github/GO0108/sabia/blob/main/Chatbot_com_NLTK.ipynb\" target=\"_parent\"><img src=\"https://colab.research.google.com/assets/colab-badge.svg\" alt=\"Open In Colab\"/></a>"
      ]
    },
    {
      "cell_type": "markdown",
      "source": [
        "#  Implementar algumas funcionalidades básicas de um chatbot com NLTK"
      ],
      "metadata": {
        "id": "3GmPR3iKojiI"
      }
    },
    {
      "cell_type": "code",
      "source": [
        "!pip install nltk\n",
        "!pip install wikipedia-api"
      ],
      "metadata": {
        "colab": {
          "base_uri": "https://localhost:8080/"
        },
        "id": "PhV4DfQIorQ2",
        "outputId": "d40deab1-2af0-4f74-c96c-9d224c14b345"
      },
      "execution_count": null,
      "outputs": [
        {
          "output_type": "stream",
          "name": "stdout",
          "text": [
            "Requirement already satisfied: nltk in /usr/local/lib/python3.10/dist-packages (3.8.1)\n",
            "Requirement already satisfied: click in /usr/local/lib/python3.10/dist-packages (from nltk) (8.1.3)\n",
            "Requirement already satisfied: joblib in /usr/local/lib/python3.10/dist-packages (from nltk) (1.2.0)\n",
            "Requirement already satisfied: regex>=2021.8.3 in /usr/local/lib/python3.10/dist-packages (from nltk) (2022.10.31)\n",
            "Requirement already satisfied: tqdm in /usr/local/lib/python3.10/dist-packages (from nltk) (4.65.0)\n",
            "Requirement already satisfied: wikipedia-api in /usr/local/lib/python3.10/dist-packages (0.6.0)\n",
            "Requirement already satisfied: requests in /usr/local/lib/python3.10/dist-packages (from wikipedia-api) (2.27.1)\n",
            "Requirement already satisfied: urllib3<1.27,>=1.21.1 in /usr/local/lib/python3.10/dist-packages (from requests->wikipedia-api) (1.26.16)\n",
            "Requirement already satisfied: certifi>=2017.4.17 in /usr/local/lib/python3.10/dist-packages (from requests->wikipedia-api) (2023.5.7)\n",
            "Requirement already satisfied: charset-normalizer~=2.0.0 in /usr/local/lib/python3.10/dist-packages (from requests->wikipedia-api) (2.0.12)\n",
            "Requirement already satisfied: idna<4,>=2.5 in /usr/local/lib/python3.10/dist-packages (from requests->wikipedia-api) (3.4)\n"
          ]
        }
      ]
    },
    {
      "cell_type": "code",
      "source": [
        "import nltk\n",
        "from nltk.chat.util import Chat, reflections\n",
        "import wikipediaapi\n",
        "import requests\n",
        "from bs4 import BeautifulSoup"
      ],
      "metadata": {
        "id": "oXQjMR6Fo0uV"
      },
      "execution_count": null,
      "outputs": []
    },
    {
      "cell_type": "markdown",
      "source": [
        "nltk: O NLTK é uma biblioteca de código aberto que fornece um conjunto abrangente de ferramentas e recursos para lidar com tarefas relacionadas ao processamento de linguagem natural. Ele oferece suporte a várias etapas do pipeline de NLP, como tokenização, lematização, análise sintática, marcação de partes do discurso, entre outros. Além disso, o NLTK também oferece acesso a vários corpora, dicionários e algoritmos úteis para tarefas específicas de NLP.\n",
        "\n",
        "nltk.chat.util: Esta subbiblioteca do NLTK fornece utilitários para criar sistemas de chatbot simples. Ele contém a classe \"Chat\", que permite definir pares de padrões e respostas para treinar o chatbot. A classe \"Chat\" oferece um método \"converse()\" que inicia a interação com o chatbot, permitindo que o usuário envie mensagens e receba respostas com base nos padrões definidos."
      ],
      "metadata": {
        "id": "ptHNbwMtpcxr"
      }
    },
    {
      "cell_type": "code",
      "source": [
        "#Defina os padrões e respostas do chatbot: Crie uma lista de pares de padrões e respostas para treinar o chatbot.\n",
        "#Cada padrão é uma expressão regular que corresponderá a uma entrada do usuário\n",
        "#Cada resposta é a resposta correspondente do chatbot.\n",
        "\n",
        "pares = [\n",
        "    [\n",
        "        r\"Oi|Olá|E aí\",\n",
        "        [\"Olá!\", \"Oi!\", \"E aí?\"]\n",
        "    ],\n",
        "    [\n",
        "        r\"Qual é o seu nome?\",\n",
        "        [\"Meu nome é SabIA.\", \"Você pode me chamar de SabIA.\"]\n",
        "    ],\n",
        "    [\n",
        "        r\"Qual é a sua cor favorita?\",\n",
        "        [\"Minha cor favorita é preto.\", \"Eu gosto de preto.\"]\n",
        "    ],\n",
        "    [\n",
        "        r\"Qual é a sua comida favorita?\",\n",
        "        [\"Eu sou um chatbot, então não como.\", \"Eu não tenho preferências de comida.\"]\n",
        "    ],\n",
        "    [\n",
        "        r\"Sair|Tchau|Até logo\",\n",
        "        [\"Até mais!\", \"Tchau!\"]\n",
        "    ],\n",
        "    [\n",
        "        r\"Fale sobre o Brasil|Brasil|pesquisar Brasil\",\n",
        "        [\"Claro, o Brasil é um país da américa do Sul, o 5° maior do Mundo\"]\n",
        "    ],\n",
        "    [\n",
        "        r\"Como posso me organizar melhor para estudar\\?\",\n",
        "        [\"Uma maneira de se organizar melhor é criar um cronograma de estudo e definir metas realistas. Também é importante ter um ambiente tranquilo e livre de distrações.\"],\n",
        "    ],\n",
        "    [\n",
        "        r\"Quais são as melhores estratégias para aprender de forma autodidata\\?\",\n",
        "        [\"Alguns métodos eficazes incluem estabelecer um plano de estudo, dividir o conteúdo em partes menores, fazer resumos, utilizar recursos online e buscar comunidades de estudo.\"],\n",
        "    ],\n",
        "    [\n",
        "        r\"Como lidar com a falta de motivação para estudar sozinho\\?\",\n",
        "        [\"É comum enfrentar falta de motivação. Defina metas claras, lembre-se do propósito do seu estudo, busque inspiração em fontes externas, como livros e vídeos, e crie recompensas para cada marco alcançado.\"],\n",
        "    ],\n",
        "    [\n",
        "        r\"Quais são as melhores técnicas de memorização para estudo autodidata\\?\",\n",
        "        [\"Alguns métodos de memorização eficazes incluem o uso de flashcards, revisões espaçadas, associação de informações com histórias ou imagens, e a prática regular por meio de exercícios e resumos.\"],\n",
        "    ],\n",
        "    [\n",
        "        r\"Como posso encontrar recursos de estudo relevantes para meu aprendizado\\?\",\n",
        "        [\"Existem várias opções disponíveis, como livros, cursos online, tutoriais em vídeo e plataformas de e-learning. Faça pesquisas específicas, acesse bibliotecas digitais e participe de fóruns ou grupos relacionados ao seu campo de estudo.\"],\n",
        "    ],\n",
        "    [\n",
        "        r\"O que fazer quando encontro dificuldades no meu estudo autodidata\\?\",\n",
        "        [\"Quando você encontrar dificuldades, não hesite em buscar ajuda em comunidades online, participar de grupos de estudo, procurar tutoriais ou vídeos explicativos e reavaliar seu método de estudo. A perseverança é fundamental.\"],\n",
        "    ],\n",
        "    [\n",
        "        r\"Como manter a disciplina ao estudar sozinho\\?\",\n",
        "        [\"Defina metas claras, crie um cronograma de estudo, estabeleça recompensas, evite distrações, pratique o autocontrole e lembre-se dos benefícios a longo prazo que seus estudos podem trazer.\"],\n",
        "    ],\n",
        "    [\n",
        "        r\"Quais são os melhores métodos de anotação durante o estudo autodidata\\?\",\n",
        "        [\"Experimente diferentes métodos de anotação, como resumos, mapas mentais, diagramas ou anotações estruturadas. Encontre o que funciona melhor para você e facilite a revisão do conteúdo.\"],\n",
        "    ],\n",
        "\n",
        "]"
      ],
      "metadata": {
        "id": "alBvPwd9unyc"
      },
      "execution_count": null,
      "outputs": []
    },
    {
      "cell_type": "code",
      "source": [
        "def pesquisar_wikipedia(termo):\n",
        "    headers = {\n",
        "        'User-Agent': 'CoolBot/0.0 (https://example.org/coolbot/; coolbot@example.org) generic-library/0.0'\n",
        "    }\n",
        "    wiki_html = requests.get(f\"https://pt.wikipedia.org/wiki/{termo}\", headers=headers)\n",
        "    soup = BeautifulSoup(wiki_html.text, 'html.parser')\n",
        "    conteudo = soup.find('div', {'id': 'mw-content-text'}).text.strip()\n",
        "    return conteudo\n"
      ],
      "metadata": {
        "id": "DyPsPDOE8ZWa"
      },
      "execution_count": null,
      "outputs": []
    },
    {
      "cell_type": "code",
      "source": [
        "def buscar_informacoes_wikipedia(pergunta):\n",
        "    wiki_wiki = wikipediaapi.Wikipedia(\n",
        "        language='en',\n",
        "        extract_format=wikipediaapi.ExtractFormat.WIKI,\n",
        "        user_agent='WikiSearch/2.5 (john.doe@gmail.com)')\n",
        "    pesquisa = wiki_wiki.page(pergunta)\n",
        "\n",
        "    if pesquisa.exists():\n",
        "        termo_pesquisa = pesquisa.title.replace(\" \", \"_\")\n",
        "        conteudo = pesquisar_wikipedia(termo_pesquisa)\n",
        "        if conteudo:\n",
        "            return conteudo\n",
        "        else:\n",
        "            return \"Desculpe, não encontrei informações detalhadas sobre isso na Wikipedia.\"\n",
        "    else:\n",
        "        return None"
      ],
      "metadata": {
        "id": "4iyG3NgV8ZTi"
      },
      "execution_count": null,
      "outputs": []
    },
    {
      "cell_type": "code",
      "source": [
        "def iniciar_chat():\n",
        "    nome = input(\"Olá! Qual é o seu nome? \")\n",
        "    print(f\"Olá, {nome}!\\nMeu nome é \\033[94mSabIA\\033[97m e estou à sua disposição.\")\n",
        "    print(\"Digite sua mensagem ou 'sair' para sair.\\n\")\n",
        "    chatbot = Chat(pares, reflections)\n",
        "    while True:\n",
        "        mensagem = input(f\"{nome}: \")\n",
        "        if mensagem.lower() == \"sair\":\n",
        "            print(f\"\\033[94mSabIA\\033[97m: Até mais, {nome}!\")\n",
        "            break\n",
        "        elif mensagem.lower().startswith(\"pesquisar\"):\n",
        "            termo_pesquisa = mensagem.split(\" \", 1)[1]\n",
        "            informacoes = buscar_informacoes_wikipedia(termo_pesquisa)\n",
        "            if informacoes:\n",
        "                print(f\"\\033[94mSabIA\\033[97m: {informacoes}\\n\")\n",
        "            else:\n",
        "                print(f\"\\033[94mSabIA\\033[97m: Desculpe, não encontrei informações sobre '{termo_pesquisa}' na Wikipedia.\\n\")\n",
        "        else:\n",
        "            resposta = chatbot.respond(mensagem)\n",
        "            if resposta is None:\n",
        "                print(f\"\\033[94mSabIA\\033[97m: Desculpe, {nome}, não entendi. Poderia reformular a pergunta?\\n\")\n",
        "            else:\n",
        "                print(f\"\\033[94mSabIA\\033[97m: {resposta}\\n\")\n",
        "\n",
        "\n"
      ],
      "metadata": {
        "id": "CIClhDLv6qgh"
      },
      "execution_count": null,
      "outputs": []
    },
    {
      "cell_type": "markdown",
      "source": [
        "#Chat"
      ],
      "metadata": {
        "id": "fh6_b2L4IiFD"
      }
    },
    {
      "cell_type": "code",
      "source": [
        "iniciar_chat()"
      ],
      "metadata": {
        "colab": {
          "base_uri": "https://localhost:8080/"
        },
        "id": "y6Mb45yL8hUD",
        "outputId": "35911455-8ed8-4d93-ff5a-08d1d749fda8"
      },
      "execution_count": null,
      "outputs": [
        {
          "output_type": "stream",
          "name": "stdout",
          "text": [
            "Olá! Qual é o seu nome? Fabrycio\n",
            "Olá, Fabrycio!\n",
            "Meu nome é \u001b[94mSabIA\u001b[97m e estou à sua disposição.\n",
            "Digite sua mensagem ou 'sair' para sair.\n",
            "\n",
            "Fabrycio: Olá\n",
            "\u001b[94mSabIA\u001b[97m: Oi!\n",
            "\n",
            "Fabrycio: Como posso me organizar melhor para estudar?\n",
            "\u001b[94mSabIA\u001b[97m: Uma maneira de se organizar melhor é criar um cronograma de estudo e definir metas realistas. Também é importante ter um ambiente tranquilo e livre de distrações.\n",
            "\n",
            "Fabrycio: Quais são as melhores estratégias para aprender de forma autodidata?\n",
            "\u001b[94mSabIA\u001b[97m: Alguns métodos eficazes incluem estabelecer um plano de estudo, dividir o conteúdo em partes menores, fazer resumos, utilizar recursos online e buscar comunidades de estudo.\n",
            "\n",
            "Fabrycio: Mensagem Nula\n",
            "\u001b[94mSabIA\u001b[97m: Desculpe, Fabrycio, não entendi. Poderia reformular a pergunta?\n",
            "\n",
            "Fabrycio: pesquisar Backpropagation\n",
            "\u001b[94mSabIA\u001b[97m: Procure por Backpropagation em um dos projetos irmãos da Wikipédia:\n",
            "\n",
            "\n",
            "\n",
            "Wikicionário (dicionário livre)\n",
            "\n",
            "\n",
            "Wikilivros (livros didáticos)\n",
            "\n",
            "\n",
            "Wikiquote (citações)\n",
            "\n",
            "\n",
            "Wikisource (biblioteca livre)\n",
            "\n",
            "\n",
            "Wikiversidade (fontes de aprendizado livres)\n",
            "\n",
            "\n",
            "Commons (imagens e media)\n",
            "\n",
            "\n",
            "Wikinotícias (fonte de notícias livre)\n",
            "\n",
            "\n",
            "Wikivoyage (guia de viagem)\n",
            "\n",
            "\n",
            "Wikidata (base de dados)\n",
            "\n",
            "\n",
            "Wikispecies (directório de espécies)\n",
            "\n",
            "A Wikipédia não possui um artigo com este nome exato. Por favor, procure por Backpropagation na Wikipédia para buscar por títulos alternativos.\n",
            "\n",
            " Comece o artigo Backpropagation ou adicione um pedido. Lembre-se que para criar ou editar esta página, é necessário iniciar sessão.\n",
            "Procure por \"Backpropagation\" em artigos existentes.\n",
            "Procure por páginas na Wikipédia que tenham ligação para este título.\n",
            "\n",
            "\n",
            "Outras razões pelas quais esta mensagem pode aparecer:\n",
            "\n",
            "Se uma página foi recentemente criada aqui, isso pode não ser ainda visível por causa de um atraso na atualização da base de dados; espere alguns minutos e tente a função purge.\n",
            "Os títulos na Wikipédia são sensíveis ao uso de maiúscula exceto para o primeiro caractere; por favor, tente formas alternativas e considere adicionar um redirecionamento para o nome correto.\n",
            "Se a página foi apagada, procure ver no regist(r)o de eliminação, e veja \"Por que a página foi eliminada?\".\n",
            "Se houve edições prejudiciais na página, procure ver no regist(r)o do filtro de edições, e veja quais filtros estão em uso.\n",
            "\n",
            "\n",
            "\n",
            "\n",
            "Obtida de \"https://pt.wikipedia.org/wiki/Backpropagation\"\n",
            "\n",
            "Fabrycio: pesquisar Robótica\n",
            "\u001b[94mSabIA\u001b[97m: Desculpe, não encontrei informações sobre 'Robótica' na Wikipedia.\n",
            "\n",
            "Fabrycio: sair\n",
            "\u001b[94mSabIA\u001b[97m: Até mais, Fabrycio!\n"
          ]
        }
      ]
    }
  ]
}