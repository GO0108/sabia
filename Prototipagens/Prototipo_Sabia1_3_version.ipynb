{
  "nbformat": 4,
  "nbformat_minor": 0,
  "metadata": {
    "colab": {
      "provenance": []
    },
    "kernelspec": {
      "name": "python3",
      "display_name": "Python 3"
    },
    "language_info": {
      "name": "python"
    }
  },
  "cells": [
    {
      "cell_type": "code",
      "source": [
        "!pip install habanero"
      ],
      "metadata": {
        "colab": {
          "base_uri": "https://localhost:8080/"
        },
        "id": "Cpgr0yg3nIL9",
        "outputId": "8e45beab-47f3-4bd8-cef5-044d06cf5bc9"
      },
      "execution_count": null,
      "outputs": [
        {
          "output_type": "stream",
          "name": "stdout",
          "text": [
            "Collecting habanero\n",
            "  Downloading habanero-1.2.3-py2.py3-none-any.whl (30 kB)\n",
            "Requirement already satisfied: requests>=2.7.0 in /usr/local/lib/python3.10/dist-packages (from habanero) (2.31.0)\n",
            "Requirement already satisfied: tqdm in /usr/local/lib/python3.10/dist-packages (from habanero) (4.66.1)\n",
            "Requirement already satisfied: charset-normalizer<4,>=2 in /usr/local/lib/python3.10/dist-packages (from requests>=2.7.0->habanero) (3.2.0)\n",
            "Requirement already satisfied: idna<4,>=2.5 in /usr/local/lib/python3.10/dist-packages (from requests>=2.7.0->habanero) (3.4)\n",
            "Requirement already satisfied: urllib3<3,>=1.21.1 in /usr/local/lib/python3.10/dist-packages (from requests>=2.7.0->habanero) (2.0.4)\n",
            "Requirement already satisfied: certifi>=2017.4.17 in /usr/local/lib/python3.10/dist-packages (from requests>=2.7.0->habanero) (2023.7.22)\n",
            "Installing collected packages: habanero\n",
            "Successfully installed habanero-1.2.3\n"
          ]
        }
      ]
    },
    {
      "cell_type": "code",
      "source": [
        "from habanero import Crossref"
      ],
      "metadata": {
        "id": "n20l4mRFnr-5"
      },
      "execution_count": null,
      "outputs": []
    },
    {
      "cell_type": "markdown",
      "source": [
        "# Função com sintese\n",
        "\n",
        "--\"Exibe comportamento inesperado para resultados sem resumo. Utilizar nlp.\""
      ],
      "metadata": {
        "id": "ZKGi_C0EsYhm"
      }
    },
    {
      "cell_type": "code",
      "source": [
        "def search_crossref_and_summarize(query, max_results=5):\n",
        "    cr = Crossref()\n",
        "    articles = cr.works(query=query, rows=max_results)\n",
        "\n",
        "    found_results = 0\n",
        "\n",
        "    for article in articles['message']['items']:\n",
        "        if 'abstract' in article:\n",
        "            title = article.get('title', ['N/A'])[0]\n",
        "            doi = article.get('DOI', 'N/A')\n",
        "            url = article.get('URL', 'N/A')\n",
        "            abstract = article.get('abstract')\n",
        "\n",
        "            print(f\"Artigo {found_results + 1} - Título: {title}\")\n",
        "            print(f\"Link: {url}\")\n",
        "            print(f\"Resumo: {abstract}\\n\")\n",
        "\n",
        "            found_results += 1\n",
        "            if found_results == max_results:\n",
        "                break\n",
        "\n",
        "if __name__ == \"__main__\":\n",
        "    query = \"Brasil\"\n",
        "    search_crossref_and_summarize(query, max_results=5)"
      ],
      "metadata": {
        "colab": {
          "base_uri": "https://localhost:8080/"
        },
        "id": "UneVUBCPnxuS",
        "outputId": "11a9ed9f-d8f5-4cef-c0a4-1981006522e5"
      },
      "execution_count": null,
      "outputs": [
        {
          "output_type": "stream",
          "name": "stdout",
          "text": [
            "Artigo 1 - Título: Brasil, meu Brasil brasileiro\n",
            "Link: http://dx.doi.org/10.33233/fb.v15i1.304\n",
            "Resumo: <jats:p>O próximo, por favor, disse o encarregado da triagem. Posso sentar? Não vejo necessidade, a palavra cansaço não existe aqui, melhor se acostumar, mas fique í  vontade. Se quiser se sentar, sente-se. Não tardará muito para que você deixe para trás a preconcebida ideia de que ficar na fila por um tempo cansa alguém. Ficar na fila por algum tempo? Parece que estou aqui há séculos. E está. Como pode ver, sou o único atendente aqui, e vocês não param de chegar. O nosso sistema de informação está fora do ar e tenho que completar as fichas manualmente. Confiarei no que me disser; mas, olhe bem, se mentir acabaremos por descobrir, e aí­ as coisas podem se complicar mais ainda para você. Mentir? E haveria alguma razão para eu mentir nessa altura do campeonato? Que bom que você pensa assim, mas não se iluda, muitos dos que aqui chegam ainda não conseguiram se desvencilhar desse hábito adquirido de dar declarações falsas. E o que devo falar? Aquilo que julgar ter sido mais importante na sua vida, o que deixou em você uma, digamos..., uma marca inesquecí­vel. Você não espera que eu fale alguma coisa agradável, não é mesmo? Não, não espero, mas não se preocupe, aqui somos todos imunes a qualquer coisa. Bem, não sei por onde começar. Sabe, meu senhor, não me julgue mal pelo que vou contar. No fundo, no fundo, eu não era uma má pessoa. Foram as circunstâncias, meu senhor, as circunstâncias, essas malditas circunstâncias. Nasci em uma famí­lia muito pobre; no iní­cio éramos sete irmãos, mas dois deles morreram com menos de um ano, de fome, meu senhor, de fome, e um outro, o mais velho, acabou morto em um tiroteio com a polí­cia. Meu pai, acho que de desgosto, acabou morrendo do coração logo após a morte desse meu irmão. Ele poderia ter sido salvo, mas não conseguiu atendimento nos hospitais. Aí­ ficamos eu, minha mãe e mais três irmãos, menores do que eu. Para piorar a situação, a minha mãe teve um derrame, desses que deixam a pessoa toda torta, sabe? Não podia mais fazer a faxina que fazia. Tentei arrumar um emprego, mas não consegui. Foi então que comecei a pegar as coisas dos outros. Ia pra praia e arrancava cordões, pegava as bolsas daqueles mais distraí­dos, normalmente os turistas. Um dia dei azar. Me pegaram e me puseram deitado no chão, boca beijando o asfalto quente; sentia o meu corpo queimar, arder como se estivessem passando um ferro quente em cima de mim. Mas o pior ainda não havia chegado, não senhor. Foi juntando gente, juntando gente, e em poucos minutos o cí­rculo que fizeram em torno de mim já havia crescido muito. De repente um cara muito forte me segurou, me levantou o mais alto que pôde e me jogou com toda força no chão. Quiquei como uma bola de pingue-pongue, o sangue começou a jorrar do meu nariz e da minha boca. A ação daquele homem que me levantou ganhou partidários, partidários esses que, sob a aparência de verdadeiras bestas humanas, eram estranhos a qualquer sentimento de piedade e justiça, porque o que faziam estava longe de representar um ato que fizesse com que eu pagasse, í  luz da razão, pelo roubo que havia cometido. Me batiam com pedaços de pau, me chutavam em todas as partes. Ai, meu senhor, doí­a muito, eu não merecia aquilo, não, nunca matei nem feri ninguém. Houve apenas um protesto contra o que faziam comigo. Era um jornalista que até escreveu que quem passasse por ali, e de nada soubesse, não precisaria sondar os humores e os propósitos daqueles indiví­duos, porque os seus gestos deixavam claro para quem quisesse ver que ali se perpetuava uma selvageria de fazer inveja a um Torquemada na sua fase mais cruel. Eu li, mas não entendi muito bem, nem sabia quem tinha sido esse tal de Torquemada. Foi um padreco que, na época da Inquisição, torturou e matou muita gente na Espanha. Mas vamos, continue. Pois bem, depois disso fui preso, e me levaram para uma cadeia, de lá fui para um presí­dio. O que mais me indignou e que até agora me causa revolta foi lembrar que os polí­ticos e os que nos governavam eram colegas meus, todos ladrões como eu, e que aquele povo que quase me esquartejou por ter roubado um colar era o mesmo povo que elegia esses que nos roubavam. Dá para entender, meu senhor? Acho que talvez seja esse o fato que mais tenha marcado a minha mí­sera vida. Resumindo e finalizando, porque já vejo sinais de cansaço no senhor: o único julgamento que tive foi o realizado pelos próprios presos, que me condenaram í  pena de morte. E que morte, meu senhor; me esfaquearam até não poder mais e, como se não bastasse, cortaram a minha cabeça. E isso foi tudo. Aqui estou, na fila dos mortos por violência no meu paí­s, o meu Brasil brasileiro, terra de samba e pandeiro, í  espera do meu destino, que, de antemão, já sei qual será.Tá! Mais um morto pela violência no Brasil. Se acrescentarmos os cinquenta mil assassinatos ocorridos no ano passado, e também os dos últimos trinta anos, chegamos um milhão e noventa mil mortos, anotou o encarregado em um caderno. Bem que eu deveria ter aceitado a minha transferência para a fila de mortos na Guerra do Iraque. Trabalharia muito menos, disse ele, finalizando a entrevista.</jats:p>\n",
            "\n",
            "Artigo 2 - Título: Problem-based learning in undergraduate nursing: Perceptions of students and graduates\n",
            "Link: http://dx.doi.org/10.36367/ntqr.13.2022.e700\n",
            "Resumo: <jats:p>ABP has been used as a learning method all over the world, however, in undergraduate nursing education it is still little used. It is considered relevant to carry out studies based on students and graduates’ experiences of a degree course that use this method. Main Goal: To understand the perception of students and graduates about the use of PBL in the undergraduate nursing course. Method: This is a qualitative study guided by the comprehensive and interpretive modality, based on dialectical hermeneutics assumptions. The research was conducted from four focus groups with 17 students and 16 graduates from a higher education institution in the interior of the state of São Paulo that uses PBL remotely in nurses’ training. The invitation to participate in the study was made via email, WhatsApp and Facebook, when the analysis’ goals were explained and the interest in participating was verified. Results: Data analysis led to the elaboration of five thematic categories, namely: suffering to appropriate the logic of active learning; acquisition of autonomy for the continuous search for knowledge; stimulation of clinical reasoning; improved interpersonal relationships and communication; and finally, theoretical-practical articulation. Conclusions: When using the PBL, there is an approximation with the curricular guidelines for the nurses’ training, promoting the acquisition of autonomy for the continuous search for knowledge, the ability to communicate and interpersonal relationships, the development of clinical reasoning and critical thinking, leading to a contextualized and expanded practice. Furthermore, we emphasize the potential of the study for qualitative research, using online focus groups, thus overcoming the challenges of qualitative research in virtual environments.</jats:p>\n",
            "\n",
            "Artigo 3 - Título: Reasons that lead pregnant and parturient women to opt for cesarean section: Integrative review\n",
            "Link: http://dx.doi.org/10.36367/ntqr.13.2022.e694\n",
            "Resumo: <jats:p>The high rates of cesarean sections in Brazil have generated risks for the binomial when performed indiscriminately and without clinical indication. Objective: To identify the reasons that led pregnant women and parturients to opt for cesarean section according to the literature. Methods: This is an integrative review. Inclusion criteria for: articles were those that answer the research question, published in Portuguese or Spanish, between 2010 and 2020, fully available online. Exclusion criteria were systematic or integrative review and others types of publication such as theses, dissertations, memorial and manuals. The databases that were used: The Scientific Eletronic Library Online (SCIELO) Latin American and Caribbean Literature on Health Sciences (LILACS) and the Nursing Database (BDENF). Results: The reasons that led pregnant women's and parturients to opt for cesarean were: advanced maternal age; cultural patterns such as beliefs, customs and reproduction of family experiences; fear of feeling pain in labor; the influence of the media; higher socioeconomic level; higher education and prenatal care and delivery performed in the private sector. Futhermore, cesarean section is seen by women as a safe choice. The women’s passivity and lack of autonomy in front of the doctor; the fear of changing the body and the process of sexuality; the continuous follow up of the doctor during parturition and the ease of scheduling were also reasons given for the cesarean section. Conclusion: Given these reasons, it’s suggested that health education in a problematizing perspective promoted by about the different types of delivery, will subsidize the choice of women, rescuing their leading role in this process.</jats:p>\n",
            "\n",
            "Artigo 4 - Título: Meninas.comp: Computing for Girls in Elementary School in Brazil\n",
            "Link: http://dx.doi.org/10.25145/j.clepsydra.2022.23.09\n",
            "Resumo: <jats:p>The Computing field has a gender diversity gap, with female participation much lower when compared to men. In this context, several activities have been developed to include more women in the field of Computing, and the Meninas.comp project has been working to introduce Computing to girls in elementary schools in Brasilia, the capital of Brazil. This article has two objectives: i) to present the activities of the Meninas.comp project for girls in elementary schools; ii) to present a mapping of the literature on computational activities with a focus on girls in elementary schools in Brazil. The systematic literature mapping found publications reporting a large variety of activities, such as unplugged computing, game development, card games, programming classes, competitions, lectures, and workshops. From the Meninas.comp project, this article highlights a smart garden developed by female elementary school students</jats:p>\n",
            "\n",
            "Artigo 5 - Título: Netnographic research on the importance of spirituality and religiosity after the diagnosis of breast cancer\n",
            "Link: http://dx.doi.org/10.36367/ntqr.13.2022.e705\n",
            "Resumo: <jats:p>Introduction: Breast cancer affects women of different age groups, generating feelings of fear, anguish and insecurity in the face of the diagnosis. In this context, spirituality and religiosity help in coping with the disease. Objective: To analyze the perception of women about the importance of spirituality and religiosity after the diagnosis of breast cancer. Methodology: This is a netnographic research carried out on the website “Oncoguia”, by reading the testimonies of patients diagnosed with breast cancer, who, in the report of their experience, had some word or brief phrases that referred to spirituality and/or or religiosity. Data collection took place through the reading of several testimonies, excluding those that did not contemplate the object of study of this research. Content analysis in the thematic modality was used to analyze the selected statements, allowing the identification of two themes. The data were interpreted, from a netnographic perspective, from theories that deal with spirituality/religiosity in coping with diseases, emerging the themes: feelings at the time of diagnosis and spirituality/religiosity and adherence to treatment. Results: Twenty (20) reports were selected. The analysis themes are about \"feelings at the time of diagnosis\" and \"spirituality/religiosity and adherence to treatment\". It was observed that faith and spirituality help in coping with the disease, increasing strength and hope in healing, both for women and for their families. Conclusions: Spirituality/religiosity should be better explored and strengthened in the process of coping with breast cancer. Knowledge of this perspective helps in oncology treatment strategies.</jats:p>\n",
            "\n"
          ]
        }
      ]
    },
    {
      "cell_type": "markdown",
      "source": [
        "# Função de retorno simples"
      ],
      "metadata": {
        "id": "J9okCqQLsdMp"
      }
    },
    {
      "cell_type": "code",
      "source": [
        "def search_crossref_and_summarize(query, max_results=5):\n",
        "    cr = Crossref()\n",
        "    articles = cr.works(query=query, rows=max_results)\n",
        "\n",
        "    for i, article in enumerate(articles['message']['items'][:max_results]):\n",
        "        title = article.get('title', ['N/A'])[0]\n",
        "        doi = article.get('DOI', 'N/A')\n",
        "        url = article.get('URL', 'N/A')\n",
        "        abstract = article.get('abstract', 'N/A')\n",
        "\n",
        "        print(f\"Artigo {i + 1} - Título: {title}\")\n",
        "        print(f\"Link: {url}\")\n",
        "        print(f\"Resumo: {abstract}\\n\")\n",
        "\n",
        "if __name__ == \"__main__\":\n",
        "    query = \"deep learning\"\n",
        "    search_crossref_and_summarize(query, max_results=5)\n"
      ],
      "metadata": {
        "colab": {
          "base_uri": "https://localhost:8080/"
        },
        "id": "Z_I61g04raaT",
        "outputId": "7c02db63-138a-46f8-e5bd-069ff602605a"
      },
      "execution_count": null,
      "outputs": [
        {
          "output_type": "stream",
          "name": "stdout",
          "text": [
            "Artigo 1 - Título: Introduction to Deep Learning\n",
            "Link: http://dx.doi.org/10.7551/mitpress/11171.003.0004\n",
            "Resumo: N/A\n",
            "\n",
            "Artigo 2 - Título: The Future of Deep Learning\n",
            "Link: http://dx.doi.org/10.7551/mitpress/11171.003.0010\n",
            "Resumo: N/A\n",
            "\n",
            "Artigo 3 - Título: A Brief History of Deep Learning\n",
            "Link: http://dx.doi.org/10.7551/mitpress/11171.003.0007\n",
            "Resumo: N/A\n",
            "\n",
            "Artigo 4 - Título: Reinforcement Learning and Deep Reinforcement Learning\n",
            "Link: http://dx.doi.org/10.1017/9781108955652.016\n",
            "Resumo: N/A\n",
            "\n",
            "Artigo 5 - Título: Computer Vision, Deep Learning, Deep Reinforcement Learning\n",
            "Link: http://dx.doi.org/10.14293/s2199-1006.1.sor-uncat.clzwyuz.v1\n",
            "Resumo: N/A\n",
            "\n"
          ]
        }
      ]
    },
    {
      "cell_type": "markdown",
      "source": [
        "# Videos"
      ],
      "metadata": {
        "id": "zncwKY1bs2Cq"
      }
    },
    {
      "cell_type": "code",
      "source": [
        "!pip install pytube"
      ],
      "metadata": {
        "colab": {
          "base_uri": "https://localhost:8080/"
        },
        "id": "43MOrv7rs1qO",
        "outputId": "b29c41ee-b3f7-4369-bed2-5efdeeeb2b4f"
      },
      "execution_count": null,
      "outputs": [
        {
          "output_type": "stream",
          "name": "stdout",
          "text": [
            "Collecting pytube\n",
            "  Downloading pytube-15.0.0-py3-none-any.whl (57 kB)\n",
            "\u001b[?25l     \u001b[90m━━━━━━━━━━━━━━━━━━━━━━━━━━━━━━━━━━━━━━━━\u001b[0m \u001b[32m0.0/57.6 kB\u001b[0m \u001b[31m?\u001b[0m eta \u001b[36m-:--:--\u001b[0m\r\u001b[2K     \u001b[91m━━━━━━━━━━━━━━━━━━━━━━━━━━━━━━━━━━━\u001b[0m\u001b[91m╸\u001b[0m\u001b[90m━━━━\u001b[0m \u001b[32m51.2/57.6 kB\u001b[0m \u001b[31m1.3 MB/s\u001b[0m eta \u001b[36m0:00:01\u001b[0m\r\u001b[2K     \u001b[90m━━━━━━━━━━━━━━━━━━━━━━━━━━━━━━━━━━━━━━━━\u001b[0m \u001b[32m57.6/57.6 kB\u001b[0m \u001b[31m1.1 MB/s\u001b[0m eta \u001b[36m0:00:00\u001b[0m\n",
            "\u001b[?25hInstalling collected packages: pytube\n",
            "Successfully installed pytube-15.0.0\n"
          ]
        }
      ]
    },
    {
      "cell_type": "code",
      "source": [
        "from pytube import Search\n",
        "import os\n",
        "import warnings"
      ],
      "metadata": {
        "id": "lEi8tizotAPN"
      },
      "execution_count": null,
      "outputs": []
    },
    {
      "cell_type": "code",
      "source": [
        "os.environ['PYTUBE_LOGGING_LEVEL'] = 'FATAL'\n",
        "\n",
        "def search_youtube_and_summarize(query, max_results=5):\n",
        "    warnings.filterwarnings(\"ignore\", category=UserWarning, module=\"pytube\")\n",
        "    yt = Search(query)\n",
        "    videos = yt.results[:max_results]\n",
        "\n",
        "    for i, video in enumerate(videos):\n",
        "        title = video.title\n",
        "        url = f\"https://www.youtube.com/watch?v={video.video_id}\"\n",
        "\n",
        "        print(f\"Vídeo {i + 1} - Título: {title}\")\n",
        "        print(f\"Link: {url}\")\n",
        "\n",
        "if __name__ == \"__main__\":\n",
        "    query = \"machine learning\"\n",
        "    search_youtube_and_summarize(query, max_results=5)"
      ],
      "metadata": {
        "colab": {
          "base_uri": "https://localhost:8080/"
        },
        "id": "JHDv_lbwtDQI",
        "outputId": "252a512a-2b01-4b69-830a-e761331df2f9"
      },
      "execution_count": null,
      "outputs": [
        {
          "output_type": "stream",
          "name": "stderr",
          "text": [
            "WARNING:pytube.contrib.search:Unexpected renderer encountered.\n",
            "WARNING:pytube.contrib.search:Renderer name: dict_keys(['adSlotRenderer'])\n",
            "WARNING:pytube.contrib.search:Search term: machine learning\n",
            "WARNING:pytube.contrib.search:Please open an issue at https://github.com/pytube/pytube/issues and provide this log output.\n",
            "WARNING:pytube.contrib.search:Unexpected renderer encountered.\n",
            "WARNING:pytube.contrib.search:Renderer name: dict_keys(['reelShelfRenderer'])\n",
            "WARNING:pytube.contrib.search:Search term: machine learning\n",
            "WARNING:pytube.contrib.search:Please open an issue at https://github.com/pytube/pytube/issues and provide this log output.\n",
            "WARNING:pytube.contrib.search:Unexpected renderer encountered.\n",
            "WARNING:pytube.contrib.search:Renderer name: dict_keys(['reelShelfRenderer'])\n",
            "WARNING:pytube.contrib.search:Search term: machine learning\n",
            "WARNING:pytube.contrib.search:Please open an issue at https://github.com/pytube/pytube/issues and provide this log output.\n"
          ]
        },
        {
          "output_type": "stream",
          "name": "stdout",
          "text": [
            "Vídeo 1 - Título: AI vs Machine Learning\n",
            "Link: https://www.youtube.com/watch?v=4RixMPF4xis\n",
            "Vídeo 2 - Título: Machine Learning for Everybody – Full Course\n",
            "Link: https://www.youtube.com/watch?v=i_LwzRVP7bg\n",
            "Vídeo 3 - Título: Machine Learning | What Is Machine Learning? | Introduction To Machine Learning | 2021 | Simplilearn\n",
            "Link: https://www.youtube.com/watch?v=ukzFI9rgwfU\n",
            "Vídeo 4 - Título: Machine Learning Explained in 100 Seconds\n",
            "Link: https://www.youtube.com/watch?v=PeMlggyqz0Y\n",
            "Vídeo 5 - Título: Machine Learning & Artificial Intelligence: Crash Course Computer Science #34\n",
            "Link: https://www.youtube.com/watch?v=z-EtmaFJieY\n"
          ]
        }
      ]
    },
    {
      "cell_type": "code",
      "source": [
        "from googleapiclient.discovery import build"
      ],
      "metadata": {
        "id": "nVQ3H4RFt5NM"
      },
      "execution_count": null,
      "outputs": []
    },
    {
      "cell_type": "code",
      "source": [
        "def search_youtube_and_summarize(query, max_results=5, api_key=\"YOUR_API_KEY\"):\n",
        "    youtube = build(\"youtube\", \"v3\", developerKey=api_key)\n",
        "    search_response = youtube.search().list(\n",
        "        q=query,\n",
        "        type=\"video\",\n",
        "        part=\"id,snippet\",\n",
        "        maxResults=max_results\n",
        "    ).execute()\n",
        "\n",
        "    for i, search_result in enumerate(search_response.get(\"items\", [])):\n",
        "        title = search_result[\"snippet\"][\"title\"]\n",
        "        video_id = search_result[\"id\"][\"videoId\"]\n",
        "        url = f\"https://www.youtube.com/watch?v={video_id}\"\n",
        "        description = search_result[\"snippet\"][\"description\"]\n",
        "\n",
        "        print(f\"Vídeo {i + 1} - Título: {title}\")\n",
        "        print(f\"Link: {url}\")\n",
        "        print(f\"Sinopse: {description}\\n\")\n",
        "\n",
        "if __name__ == \"__main__\":\n",
        "    query = \"machine learning\"\n",
        "    search_youtube_and_summarize(query, max_results=5, api_key=\"YOUR_API_KEY\")"
      ],
      "metadata": {
        "colab": {
          "base_uri": "https://localhost:8080/"
        },
        "id": "u0RmuZHPt9Vs",
        "outputId": "c2e31150-e1fb-49fa-f924-4185e12421af"
      },
      "execution_count": null,
      "outputs": [
        {
          "output_type": "stream",
          "name": "stdout",
          "text": [
            "Vídeo 1 - Título: AI vs Machine Learning\n",
            "Link: https://www.youtube.com/watch?v=4RixMPF4xis\n",
            "Sinopse: Learn more about WatsonX: https://ibm.biz/BdPuCV Learn about a data and AI platform that's built for business ...\n",
            "\n",
            "Vídeo 2 - Título: Machine Learning Explained in 100 Seconds\n",
            "Link: https://www.youtube.com/watch?v=PeMlggyqz0Y\n",
            "Sinopse: Machine Learning is the process of teaching a computer how perform a task with out explicitly programming it. The process feeds ...\n",
            "\n",
            "Vídeo 3 - Título: Machine Learning | What Is Machine Learning? | Introduction To Machine Learning | 2021 | Simplilearn\n",
            "Link: https://www.youtube.com/watch?v=ukzFI9rgwfU\n",
            "Sinopse: Note: 1+ Years of Work Experience Recommended to Sign up for Below Programs⬇️ Professional Certificate Course In AI ...\n",
            "\n",
            "Vídeo 4 - Título: Machine Learning for Everybody – Full Course\n",
            "Link: https://www.youtube.com/watch?v=i_LwzRVP7bg\n",
            "Sinopse: Learn Machine Learning in a way that is accessible to absolute beginners. You will learn the basics of Machine Learning and how ...\n",
            "\n",
            "Vídeo 5 - Título: Machine Learning &amp; Artificial Intelligence: Crash Course Computer Science #34\n",
            "Link: https://www.youtube.com/watch?v=z-EtmaFJieY\n",
            "Sinopse: So we've talked a lot in this series about how computers fetch and display data, but how do they make decisions on this data?\n",
            "\n"
          ]
        }
      ]
    }
  ]
}