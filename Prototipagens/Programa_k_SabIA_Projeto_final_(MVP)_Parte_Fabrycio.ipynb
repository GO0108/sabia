{
  "nbformat": 4,
  "nbformat_minor": 0,
  "metadata": {
    "colab": {
      "provenance": []
    },
    "kernelspec": {
      "name": "python3",
      "display_name": "Python 3"
    },
    "language_info": {
      "name": "python"
    }
  },
  "cells": [
    {
      "cell_type": "markdown",
      "source": [
        "#Parte 0 : Bibliotecas"
      ],
      "metadata": {
        "id": "vKiVou5v5EKS"
      }
    },
    {
      "cell_type": "code",
      "source": [
        "!pip install wikipedia-api\n",
        "!pip install googletrans==4.0.0-rc1\n",
        "!pip install google-search-results"
      ],
      "metadata": {
        "colab": {
          "base_uri": "https://localhost:8080/"
        },
        "id": "PfKgJ4aQy3ru",
        "outputId": "ca5ffc5e-2c30-4eb6-9566-68a435040ff8"
      },
      "execution_count": null,
      "outputs": [
        {
          "output_type": "stream",
          "name": "stdout",
          "text": [
            "Requirement already satisfied: wikipedia-api in /usr/local/lib/python3.10/dist-packages (0.6.0)\n",
            "Requirement already satisfied: requests in /usr/local/lib/python3.10/dist-packages (from wikipedia-api) (2.31.0)\n",
            "Requirement already satisfied: charset-normalizer<4,>=2 in /usr/local/lib/python3.10/dist-packages (from requests->wikipedia-api) (3.2.0)\n",
            "Requirement already satisfied: idna<4,>=2.5 in /usr/local/lib/python3.10/dist-packages (from requests->wikipedia-api) (2.10)\n",
            "Requirement already satisfied: urllib3<3,>=1.21.1 in /usr/local/lib/python3.10/dist-packages (from requests->wikipedia-api) (2.0.4)\n",
            "Requirement already satisfied: certifi>=2017.4.17 in /usr/local/lib/python3.10/dist-packages (from requests->wikipedia-api) (2023.7.22)\n",
            "Requirement already satisfied: googletrans==4.0.0-rc1 in /usr/local/lib/python3.10/dist-packages (4.0.0rc1)\n",
            "Requirement already satisfied: httpx==0.13.3 in /usr/local/lib/python3.10/dist-packages (from googletrans==4.0.0-rc1) (0.13.3)\n",
            "Requirement already satisfied: certifi in /usr/local/lib/python3.10/dist-packages (from httpx==0.13.3->googletrans==4.0.0-rc1) (2023.7.22)\n",
            "Requirement already satisfied: hstspreload in /usr/local/lib/python3.10/dist-packages (from httpx==0.13.3->googletrans==4.0.0-rc1) (2023.1.1)\n",
            "Requirement already satisfied: sniffio in /usr/local/lib/python3.10/dist-packages (from httpx==0.13.3->googletrans==4.0.0-rc1) (1.3.0)\n",
            "Requirement already satisfied: chardet==3.* in /usr/local/lib/python3.10/dist-packages (from httpx==0.13.3->googletrans==4.0.0-rc1) (3.0.4)\n",
            "Requirement already satisfied: idna==2.* in /usr/local/lib/python3.10/dist-packages (from httpx==0.13.3->googletrans==4.0.0-rc1) (2.10)\n",
            "Requirement already satisfied: rfc3986<2,>=1.3 in /usr/local/lib/python3.10/dist-packages (from httpx==0.13.3->googletrans==4.0.0-rc1) (1.5.0)\n",
            "Requirement already satisfied: httpcore==0.9.* in /usr/local/lib/python3.10/dist-packages (from httpx==0.13.3->googletrans==4.0.0-rc1) (0.9.1)\n",
            "Requirement already satisfied: h11<0.10,>=0.8 in /usr/local/lib/python3.10/dist-packages (from httpcore==0.9.*->httpx==0.13.3->googletrans==4.0.0-rc1) (0.9.0)\n",
            "Requirement already satisfied: h2==3.* in /usr/local/lib/python3.10/dist-packages (from httpcore==0.9.*->httpx==0.13.3->googletrans==4.0.0-rc1) (3.2.0)\n",
            "Requirement already satisfied: hyperframe<6,>=5.2.0 in /usr/local/lib/python3.10/dist-packages (from h2==3.*->httpcore==0.9.*->httpx==0.13.3->googletrans==4.0.0-rc1) (5.2.0)\n",
            "Requirement already satisfied: hpack<4,>=3.0 in /usr/local/lib/python3.10/dist-packages (from h2==3.*->httpcore==0.9.*->httpx==0.13.3->googletrans==4.0.0-rc1) (3.0.0)\n",
            "Collecting google-search-results\n",
            "  Downloading google_search_results-2.4.2.tar.gz (18 kB)\n",
            "  Preparing metadata (setup.py) ... \u001b[?25l\u001b[?25hdone\n",
            "Requirement already satisfied: requests in /usr/local/lib/python3.10/dist-packages (from google-search-results) (2.31.0)\n",
            "Requirement already satisfied: charset-normalizer<4,>=2 in /usr/local/lib/python3.10/dist-packages (from requests->google-search-results) (3.2.0)\n",
            "Requirement already satisfied: idna<4,>=2.5 in /usr/local/lib/python3.10/dist-packages (from requests->google-search-results) (2.10)\n",
            "Requirement already satisfied: urllib3<3,>=1.21.1 in /usr/local/lib/python3.10/dist-packages (from requests->google-search-results) (2.0.4)\n",
            "Requirement already satisfied: certifi>=2017.4.17 in /usr/local/lib/python3.10/dist-packages (from requests->google-search-results) (2023.7.22)\n",
            "Building wheels for collected packages: google-search-results\n",
            "  Building wheel for google-search-results (setup.py) ... \u001b[?25l\u001b[?25hdone\n",
            "  Created wheel for google-search-results: filename=google_search_results-2.4.2-py3-none-any.whl size=32003 sha256=562b30e0ab4db500ddbe554cf0a7cfcf309de3df032acec08121e9acbc586dba\n",
            "  Stored in directory: /root/.cache/pip/wheels/d3/b2/c3/03302d12bb44a2cdff3c9371f31b72c0c4e84b8d2285eeac53\n",
            "Successfully built google-search-results\n",
            "Installing collected packages: google-search-results\n",
            "Successfully installed google-search-results-2.4.2\n"
          ]
        }
      ]
    },
    {
      "cell_type": "markdown",
      "source": [
        "#Parte 1: Retornar Referências a partir da Wikipedia - API"
      ],
      "metadata": {
        "id": "Odxmb_OE5IIg"
      }
    },
    {
      "cell_type": "code",
      "source": [
        "import wikipediaapi\n",
        "import requests\n",
        "from bs4 import BeautifulSoup\n",
        "\n",
        "# Dicionário que mapeia os IDs das seções de referências em diferentes idiomas\n",
        "ids_referencias = {\n",
        "    'pt': 'Referências',\n",
        "    'en': 'References',\n",
        "    'es': 'Referencias',\n",
        "    'de': 'Einzelnachweise'\n",
        "}\n",
        "\n",
        "# Função para buscar e imprimir referências de um artigo em diferentes idiomas\n",
        "def imprimir_referencias_multilingues(consulta):\n",
        "\n",
        "    # Especifica o user agent\n",
        "    user_agent = \"SeuApp/1.0 (seu@email.com)\"\n",
        "\n",
        "    # Cria instâncias do WikipediaAPI para cada idioma\n",
        "    wiki_en = wikipediaapi.Wikipedia(user_agent=user_agent, language='en')\n",
        "    wiki_es = wikipediaapi.Wikipedia(user_agent=user_agent, language='es')\n",
        "    wiki_de = wikipediaapi.Wikipedia(user_agent=user_agent, language='de')\n",
        "\n",
        "    # Lista de idiomas para os quais você deseja buscar referências\n",
        "    idiomas = ['pt', 'en', 'es', 'de']\n",
        "\n",
        "    # Loop através dos idiomas\n",
        "    for idioma in idiomas:\n",
        "        # Cria instância do WikipediaAPI para o idioma atual\n",
        "        wiki = wikipediaapi.Wikipedia(user_agent=user_agent, language=idioma)\n",
        "\n",
        "        # Obtém a página do artigo na língua atual\n",
        "        page = wiki.page(consulta)\n",
        "\n",
        "        # Verifica se a página existe\n",
        "        if page.exists():\n",
        "            # Faz a requisição HTTP para a página da Wikipedia\n",
        "            url = page.fullurl\n",
        "            response = requests.get(url)\n",
        "\n",
        "            # Cria o objeto BeautifulSoup\n",
        "            soup = BeautifulSoup(response.text, 'html.parser')\n",
        "\n",
        "            # Encontra a seção de referências usando o ID apropriado para o idioma\n",
        "            references_section = soup.find('span', {'id': ids_referencias.get(idioma)})\n",
        "\n",
        "            # Verifica se a seção existe\n",
        "            if references_section is not None:\n",
        "                # Encontra a lista de referências\n",
        "                references_list = references_section.parent.find_next_sibling('ul')\n",
        "\n",
        "                if references_list:\n",
        "                    # Imprime o idioma atual e as referências do artigo\n",
        "                    print(f\"Referências em {idioma.capitalifrom serpapi import GoogleSearch\n",
        "from IPython.display import Image\n",
        "\n",
        "# Solicita ao usuário uma consulta de pesquisa\n",
        "consulta = input(\"Digite o que deseja pesquisar: \")\n",
        "\n",
        "# Crie um objeto GoogleSearch para pesquisar por imagens\n",
        "search_params = {\n",
        "    \"q\": consulta,\n",
        "    \"tbm\": \"isch\",\n",
        "    \"ijn\": \"0\",\n",
        "    \"api_key\": \"e6b6ededdc11334327d4b4fdaab945b0e42935519c7e00461ff8e2c4424b5649\"\n",
        "}\n",
        "search = GoogleSearch(search_params)\n",
        "\n",
        "# Variável de controle para limitar a exibição a 5 imagens\n",
        "num_images_to_display = 5\n",
        "\n",
        "for i, result in enumerate(search.get_dict()[\"images_results\"]):\n",
        "    if i >= num_images_to_display:\n",
        "        break\n",
        "    display(Image(url=result[\"original\"]))\n",
        "ze()} para '{consulta}':\")\n",
        "                    for reference in references_list.find_all('li'):\n",
        "                        # Extrai o texto da referência\n",
        "                        reference_text = reference.text\n",
        "\n",
        "                        # Extrai o link da referência, se houver\n",
        "                        reference_link = reference.find('a')\n",
        "                        if reference_link:\n",
        "                            reference_link = reference_link.get('href')\n",
        "\n",
        "                        # Imprime o texto e o link, se disponível\n",
        "                        if reference_link:\n",
        "                            print(f\"Texto: {reference_text}\")\n",
        "                            print(f\"Link: {reference_link}\\n\")\n",
        "                        else:\n",
        "                            print(f\"Texto: {reference_text}\\n\")\n",
        "                else:\n",
        "                    print(f'Não há seção de Referências em {idioma.capitalize()} para este artigo.')\n",
        "            else:\n",
        "                print(f'Não foi possível encontrar a seção de Referências em {idioma.capitalize()} para este artigo.')\n",
        "        else:\n",
        "            print(f'Artigo não encontrado em {idioma.capitalize()} para a consulta: {consulta}')\n",
        "\n",
        "# Solicita ao usuário uma consulta de pesquisa\n",
        "consulta = input(\"Digite o nome do artigo que deseja buscar: \")\n",
        "print(\"\")\n",
        "\n",
        "# Chama a função para buscar e imprimir as referências em diferentes idiomas\n",
        "imprimir_referencias_multilingues(consulta)"
      ],
      "metadata": {
        "id": "886tRWYW2LkB"
      },
      "execution_count": null,
      "outputs": []
    },
    {
      "cell_type": "markdown",
      "source": [
        "#Parte 2: Imagens"
      ],
      "metadata": {
        "id": "pHk-C5Qj4_KH"
      }
    },
    {
      "cell_type": "code",
      "source": [
        "from serpapi import GoogleSearch\n",
        "from IPython.display import Image\n",
        "\n",
        "# Solicita ao usuário uma consulta de pesquisa\n",
        "consulta = input(\"Digite o que deseja pesquisar: \")\n",
        "\n",
        "# Crie um objeto GoogleSearch para pesquisar por imagens\n",
        "search_params = {\n",
        "    \"q\": consulta,\n",
        "    \"tbm\": \"isch\",\n",
        "    \"ijn\": \"0\",\n",
        "    \"api_key\": \"e6b6ededdc11334327d4b4fdaab945b0e42935519c7e00461ff8e2c4424b5649\"\n",
        "}\n",
        "search = GoogleSearch(search_params)\n",
        "\n",
        "# Variável de controle para limitar a exibição a 5 imagens\n",
        "num_images_to_display = 5\n",
        "\n",
        "for i, result in enumerate(search.get_dict()[\"images_results\"]):\n",
        "    if i >= num_images_to_display:\n",
        "        break\n",
        "    display(Image(url=result[\"original\"]))\n"
      ],
      "metadata": {
        "colab": {
          "base_uri": "https://localhost:8080/",
          "height": 1000
        },
        "id": "QAum8gQc5bU2",
        "outputId": "9d4e4140-1045-4996-fbfb-2e465fae8235"
      },
      "execution_count": null,
      "outputs": [
        {
          "name": "stdout",
          "output_type": "stream",
          "text": [
            "Digite o que deseja pesquisar: Cavalo\n"
          ]
        },
        {
          "output_type": "display_data",
          "data": {
            "text/html": [
              "<img src=\"https://s1.static.brasilescola.uol.com.br/be/conteudo/images/cavalo.jpg\"/>"
            ],
            "text/plain": [
              "<IPython.core.display.Image object>"
            ]
          },
          "metadata": {}
        },
        {
          "output_type": "display_data",
          "data": {
            "text/html": [
              "<img src=\"https://cptstatic.s3.amazonaws.com/imagens/enviadas/materias/materia16043/caracteristicas-cavalos-saudaveis-artigos-cursos-cpt.jpg\"/>"
            ],
            "text/plain": [
              "<IPython.core.display.Image object>"
            ]
          },
          "metadata": {}
        },
        {
          "output_type": "display_data",
          "data": {
            "text/html": [
              "<img src=\"https://blog.7mboots.com.br/wp-content/uploads/2020/06/the-black-horse-of-the-frisian-breed-walks-in-the-P77UURU_Easy-Resize.com_.jpg\"/>"
            ],
            "text/plain": [
              "<IPython.core.display.Image object>"
            ]
          },
          "metadata": {}
        },
        {
          "output_type": "display_data",
          "data": {
            "text/html": [
              "<img src=\"https://s2-g1.glbimg.com/QafpiG_y2vBBKRPnpQKNNAorLFI=/0x0:620x726/984x0/smart/filters:strip_icc()/s.glbimg.com/jo/g1/f/original/2013/03/08/cavalozuao1.jpg\"/>"
            ],
            "text/plain": [
              "<IPython.core.display.Image object>"
            ]
          },
          "metadata": {}
        },
        {
          "output_type": "display_data",
          "data": {
            "text/html": [
              "<img src=\"https://static.todamateria.com.br/upload/ca/va/cavalo.jpg\"/>"
            ],
            "text/plain": [
              "<IPython.core.display.Image object>"
            ]
          },
          "metadata": {}
        }
      ]
    },
    {
      "cell_type": "markdown",
      "source": [
        "#Parte 3 : Integração"
      ],
      "metadata": {
        "id": "yLvgkh9S57_g"
      }
    },
    {
      "cell_type": "code",
      "source": [
        "import wikipediaapi\n",
        "import requests\n",
        "from bs4 import BeautifulSoup\n",
        "from serpapi import GoogleSearch\n",
        "from IPython.display import Image\n",
        "\n",
        "# Dicionário que mapeia os IDs das seções de referências em diferentes idiomas\n",
        "ids_referencias = {\n",
        "    'pt': 'Referências',\n",
        "    'en': 'References',\n",
        "    'es': 'Referencias',\n",
        "    'de': 'Einzelnachweise'\n",
        "}\n",
        "\n",
        "# Função para buscar e imprimir referências de um artigo em diferentes idiomas\n",
        "def imprimir_referencias_multilingues(consulta):\n",
        "\n",
        "    # Especifica o user agent\n",
        "    user_agent = \"SeuApp/1.0 (seu@email.com)\"\n",
        "\n",
        "    # Cria instâncias do WikipediaAPI para cada idioma\n",
        "    wiki_en = wikipediaapi.Wikipedia(user_agent=user_agent, language='en')\n",
        "    wiki_es = wikipediaapi.Wikipedia(user_agent=user_agent, language='es')\n",
        "    wiki_de = wikipediaapi.Wikipedia(user_agent=user_agent, language='de')\n",
        "\n",
        "    # Lista de idiomas para os quais você deseja buscar referências\n",
        "    idiomas = ['pt', 'en', 'es', 'de']\n",
        "\n",
        "    # Loop através dos idiomas\n",
        "    for idioma in idiomas:\n",
        "        # Cria instância do WikipediaAPI para o idioma atual\n",
        "        wiki = wikipediaapi.Wikipedia(user_agent=user_agent, language=idioma)\n",
        "\n",
        "        # Obtém a página do artigo na língua atual\n",
        "        page = wiki.page(consulta)\n",
        "\n",
        "        # Verifica se a página existe\n",
        "        if page.exists():\n",
        "            # Faz a requisição HTTP para a página da Wikipedia\n",
        "            url = page.fullurl\n",
        "            response = requests.get(url)\n",
        "\n",
        "            # Cria o objeto BeautifulSoup\n",
        "            soup = BeautifulSoup(response.text, 'html.parser')\n",
        "\n",
        "            # Encontra a seção de referências usando o ID apropriado para o idioma\n",
        "            references_section = soup.find('span', {'id': ids_referencias.get(idioma)})\n",
        "\n",
        "            # Verifica se a seção existe\n",
        "            if references_section is not None:\n",
        "                # Encontra a lista de referências\n",
        "                references_list = references_section.parent.find_next_sibling('ul')\n",
        "\n",
        "                if references_list:\n",
        "                    # Imprime o idioma atual e as referências do artigo\n",
        "                    print(f\"Referências em {idioma.capitalize()} para '{consulta}':\")\n",
        "                    for reference in references_list.find_all('li'):\n",
        "                        # Extrai o texto da referência\n",
        "                        reference_text = reference.text\n",
        "\n",
        "                        # Extrai o link da referência, se houver\n",
        "                        reference_link = reference.find('a')\n",
        "                        if reference_link:\n",
        "                            reference_link = reference_link.get('href')\n",
        "\n",
        "                        # Imprime o texto e o link, se disponível\n",
        "                        if reference_link:\n",
        "                            print(f\"Texto: {reference_text}\")\n",
        "                            print(f\"Link: {reference_link}\\n\")\n",
        "                        else:\n",
        "                            print(f\"Texto: {reference_text}\\n\")\n",
        "                else:\n",
        "                    print(f'Não há seção de Referências em {idioma.capitalize()} para este artigo.')\n",
        "            else:\n",
        "                print(f'Não foi possível encontrar a seção de Referências em {idioma.capitalize()} para este artigo.')\n",
        "        else:\n",
        "            print(f'Artigo não encontrado em {idioma.capitalize()} para a consulta: {consulta}')\n",
        "\n",
        "# Solicita ao usuário uma consulta de pesquisa\n",
        "consulta = input(\"Digite o nome do artigo que deseja buscar na Wikipedia: \")\n",
        "print(\"\")\n",
        "\n",
        "# Chama a função para buscar e imprimir as referências em diferentes idiomas\n",
        "imprimir_referencias_multilingues(consulta)\n",
        "\n",
        "# Solicita ao usuário uma consulta de pesquisa para imagens\n",
        "consulta_imagens = consulta\n",
        "\n",
        "# Crie um objeto GoogleSearch para pesquisar por imagens\n",
        "search_params = {\n",
        "    \"q\": consulta_imagens,\n",
        "    \"tbm\": \"isch\",\n",
        "    \"ijn\": \"0\",\n",
        "    \"api_key\": \"e6b6ededdc11334327d4b4fdaab945b0e42935519c7e00461ff8e2c4424b5649\"\n",
        "}\n",
        "search = GoogleSearch(search_params)\n",
        "\n",
        "# Variável de controle para limitar a exibição a 5 imagens\n",
        "num_images_to_display = 5\n",
        "\n",
        "for i, result in enumerate(search.get_dict()[\"images_results\"]):\n",
        "    if i >= num_images_to_display:\n",
        "        break\n",
        "    display(Image(url=result[\"original\"]))\n"
      ],
      "metadata": {
        "colab": {
          "base_uri": "https://localhost:8080/",
          "height": 1000
        },
        "id": "60j4xn4N5-5T",
        "outputId": "f6dd21dc-a9b9-45fd-d3c8-e098e984d506"
      },
      "execution_count": null,
      "outputs": [
        {
          "output_type": "stream",
          "name": "stdout",
          "text": [
            "Digite o nome do artigo que deseja buscar na Wikipedia: China\n",
            "\n",
            "Referências em Pt para 'China':\n",
            "Texto: «Conexão China» — site em português sobre a cultura chinesa e assuntos gerais da China.\n",
            "Link: https://conexaochina.com/\n",
            "\n",
            "Texto: «The Central People's Government of People's Republic of China» (em inglês) \n",
            "Link: http://english.gov.cn/\n",
            "\n",
            "Texto: «China Internet Information Center (China.org.cn)» (em inglês) \n",
            "Link: http://www.china.org.cn/\n",
            "\n",
            "Texto: Google Maps — China\n",
            "Link: http://maps.google.com/maps?q=China&ll=30.600094,103.710938&spn=64.10009,177.1875&om=1\n",
            "\n",
            "Referências em En para 'China':\n",
            "Texto: The Central People's Government of People's Republic of China (in English)\n",
            "Link: http://english.gov.cn/\n",
            "\n",
            "Referências em Es para 'China':\n",
            "Texto:  Wikimedia Commons alberga una categoría multimedia sobre China.\n",
            "Link: /wiki/Wikimedia_Commons\n",
            "\n",
            "Texto:  Wikiviajes alberga guías de viajes de o sobre República Popular China.\n",
            "Link: /wiki/Wikiviajes\n",
            "\n",
            "Texto:  Wikinoticias tiene noticias relacionadas con China.\n",
            "Link: /wiki/Wikinoticias\n",
            "\n",
            "Texto:  Wikiquote alberga frases célebres de o sobre China.\n",
            "Link: /wiki/Wikiquote\n",
            "\n",
            "Texto:  Wikcionario  tiene definiciones y otra información sobre China.\n",
            "Link: /wiki/Wikcionario\n",
            "\n",
            "Texto:  Wikimedia Atlas: República Popular China\n",
            "Link: /wiki/Archivo:Gnome-globe.svg\n",
            "\n",
            "Texto: Esta obra contiene una traducción  derivada de «China» de Wikipedia en inglés, concretamente de esta versión, publicada por sus editores bajo la Licencia de documentación libre de GNU y la Licencia Creative Commons Atribución-CompartirIgual 3.0 Unported.\n",
            "Link: https://en.wikipedia.org/wiki/China\n",
            "\n",
            "Não há seção de Referências em De para este artigo.\n"
          ]
        },
        {
          "output_type": "display_data",
          "data": {
            "text/html": [
              "<img src=\"https://cdn.britannica.com/15/183615-050-47B4DB05/World-Data-Locator-Map-China.jpg\"/>"
            ],
            "text/plain": [
              "<IPython.core.display.Image object>"
            ]
          },
          "metadata": {}
        },
        {
          "output_type": "display_data",
          "data": {
            "text/html": [
              "<img src=\"https://upload.wikimedia.org/wikipedia/commons/thumb/f/fa/Flag_of_the_People%27s_Republic_of_China.svg/640px-Flag_of_the_People%27s_Republic_of_China.svg.png\"/>"
            ],
            "text/plain": [
              "<IPython.core.display.Image object>"
            ]
          },
          "metadata": {}
        },
        {
          "output_type": "display_data",
          "data": {
            "text/html": [
              "<img src=\"https://www.intrepidtravel.com/adventures/wp-content/uploads/2017/08/china_shanghai_yuyuan-garden-city.jpg\"/>"
            ],
            "text/plain": [
              "<IPython.core.display.Image object>"
            ]
          },
          "metadata": {}
        },
        {
          "output_type": "display_data",
          "data": {
            "text/html": [
              "<img src=\"https://image.cnbcfm.com/api/v1/image/107302004-1695000652064-gettyimages-1639426696-cfoto-skyscrap230902_npmFr.jpeg?v=1695083415&w=929&h=523&vtcrop=y\"/>"
            ],
            "text/plain": [
              "<IPython.core.display.Image object>"
            ]
          },
          "metadata": {}
        },
        {
          "output_type": "display_data",
          "data": {
            "text/html": [
              "<img src=\"https://cdn.britannica.com/89/179589-138-3EE27C94/Overview-Great-Wall-of-China.jpg?w=800&h=450&c=crop\"/>"
            ],
            "text/plain": [
              "<IPython.core.display.Image object>"
            ]
          },
          "metadata": {}
        }
      ]
    }
  ]
}